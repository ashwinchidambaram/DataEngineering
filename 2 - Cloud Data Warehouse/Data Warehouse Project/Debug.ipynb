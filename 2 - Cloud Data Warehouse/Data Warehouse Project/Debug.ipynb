{
 "cells": [
  {
   "cell_type": "markdown",
   "metadata": {
    "editable": true
   },
   "source": [
    "## Debugging Commands for Ease of Access (Run Last Block before Using)"
   ]
  },
  {
   "cell_type": "markdown",
   "metadata": {
    "editable": true
   },
   "source": [
    "#### Delete Cluster & IAM Role"
   ]
  },
  {
   "cell_type": "code",
   "execution_count": null,
   "metadata": {
    "editable": true
   },
   "outputs": [],
   "source": [
    "deleteRedshiftCluster()"
   ]
  },
  {
   "cell_type": "markdown",
   "metadata": {
    "editable": true
   },
   "source": [
    "#### Check Cluster Status"
   ]
  },
  {
   "cell_type": "code",
   "execution_count": null,
   "metadata": {
    "editable": true
   },
   "outputs": [],
   "source": [
    "checkClusterStatus()"
   ]
  },
  {
   "cell_type": "markdown",
   "metadata": {
    "editable": true
   },
   "source": [
    "#### Check DWH Parameters "
   ]
  },
  {
   "cell_type": "code",
   "execution_count": null,
   "metadata": {
    "editable": true
   },
   "outputs": [],
   "source": [
    "checkDWHParm()"
   ]
  },
  {
   "cell_type": "markdown",
   "metadata": {
    "editable": true
   },
   "source": [
    "#### Check DWH Information"
   ]
  },
  {
   "cell_type": "code",
   "execution_count": null,
   "metadata": {
    "editable": true
   },
   "outputs": [],
   "source": [
    "checkDWHInfo()"
   ]
  },
  {
   "cell_type": "markdown",
   "metadata": {
    "editable": true
   },
   "source": [
    "#### Insert Tables"
   ]
  },
  {
   "cell_type": "code",
   "execution_count": null,
   "metadata": {
    "editable": true
   },
   "outputs": [],
   "source": [
    "insert_tables(cur, conn)"
   ]
  },
  {
   "cell_type": "markdown",
   "metadata": {
    "editable": true
   },
   "source": [
    "## Test Queries to Ensure that Data has been Inserted Into Tables"
   ]
  },
  {
   "cell_type": "markdown",
   "metadata": {
    "editable": true
   },
   "source": [
    "#### Check if Data Exists in --- [staging_events]"
   ]
  },
  {
   "cell_type": "code",
   "execution_count": null,
   "metadata": {
    "editable": true
   },
   "outputs": [],
   "source": [
    "%sql $check_staging_events"
   ]
  },
  {
   "cell_type": "markdown",
   "metadata": {
    "editable": true
   },
   "source": [
    "#### Check if Data Exists in --- [staging_songs] "
   ]
  },
  {
   "cell_type": "code",
   "execution_count": null,
   "metadata": {
    "editable": true
   },
   "outputs": [],
   "source": [
    "%sql $check_staging_songs"
   ]
  },
  {
   "cell_type": "markdown",
   "metadata": {
    "editable": true
   },
   "source": [
    "#### Check if Data Exists in --- [songplay_table] "
   ]
  },
  {
   "cell_type": "code",
   "execution_count": null,
   "metadata": {
    "editable": true
   },
   "outputs": [],
   "source": [
    "%sql $check_songplay_table"
   ]
  },
  {
   "cell_type": "markdown",
   "metadata": {
    "editable": true
   },
   "source": [
    "#### Check if Data Exists in --- [user_table]"
   ]
  },
  {
   "cell_type": "code",
   "execution_count": null,
   "metadata": {
    "editable": true
   },
   "outputs": [],
   "source": [
    "%sql $check_user_table"
   ]
  },
  {
   "cell_type": "markdown",
   "metadata": {
    "editable": true
   },
   "source": [
    "#### Check if Data Exists in --- [song_table]"
   ]
  },
  {
   "cell_type": "code",
   "execution_count": null,
   "metadata": {
    "editable": true
   },
   "outputs": [],
   "source": [
    "%sql $check_song_table"
   ]
  },
  {
   "cell_type": "markdown",
   "metadata": {
    "editable": true
   },
   "source": [
    "#### Check if Data Exists in --- [artist_table]"
   ]
  },
  {
   "cell_type": "code",
   "execution_count": null,
   "metadata": {
    "editable": true
   },
   "outputs": [],
   "source": [
    "%sql $check_artist_table"
   ]
  },
  {
   "cell_type": "markdown",
   "metadata": {
    "editable": true
   },
   "source": [
    "#### Check if Data Exists in --- [time_table]"
   ]
  },
  {
   "cell_type": "code",
   "execution_count": null,
   "metadata": {
    "editable": true
   },
   "outputs": [],
   "source": [
    "%sql $check_time_table"
   ]
  },
  {
   "cell_type": "markdown",
   "metadata": {
    "editable": true
   },
   "source": [
    "## NOTE: RUN BELOW BEFORE RUNNING ANY OF THE COMMANDS ABOVE"
   ]
  },
  {
   "cell_type": "code",
   "execution_count": null,
   "metadata": {
    "editable": true
   },
   "outputs": [],
   "source": [
    "import configparser\n",
    "import psycopg2\n",
    "import boto3\n",
    "import json\n",
    "import pandas as pd\n",
    "import time \n",
    "from sql_queries import copy_table_queries, insert_table_queries\n",
    "\n",
    "global config\n",
    "config = configparser.ConfigParser()\n",
    "config.read('dwh.cfg')\n",
    "\n",
    "def deleteRedshiftCluster():\n",
    "    redshift.delete_cluster(ClusterIdentifier=DWH_CLUSTER_IDENTIFIER, SkipFinalClusterSnapshot=True)\n",
    "    iam.detach_role_policy(RoleName=DWH_IAM_ROLE_NAME, PolicyArn=\"arn:aws:iam::aws:policy/AmazonS3ReadOnlyAccess\")\n",
    "    iam.delete_role(RoleName=DWH_IAM_ROLE_NAME)\n",
    "    \n",
    "    checkClusterStatus()\n",
    "\n",
    "def checkClusterStatus():\n",
    "    status = False\n",
    "    waiting = False\n",
    "\n",
    "    while status != True:\n",
    "        try: \n",
    "            myClusterProps = redshift.describe_clusters(ClusterIdentifier=DWH_CLUSTER_IDENTIFIER, TagKeys=['ClusterStatus'])['Clusters'][0]\n",
    "            clusterStatus = myClusterProps['ClusterStatus']\n",
    "            if clusterStatus == 'available':\n",
    "                print (\"CLUSTER STATUS: Cluster is available\")\n",
    "                status = True\n",
    "                waiting = False\n",
    "            elif ((clusterStatus == 'creating') and (waiting == False)):\n",
    "                print (\"CLUSTER STATUS: Cluster is being created...\")\n",
    "                status = False\n",
    "                waiting = True\n",
    "            elif ((clusterStatus == 'deleting') and (waiting == False)):\n",
    "                print (\"CLUSTER STATUS: Cluster is being deleted...\")\n",
    "                status = False\n",
    "                waiting = True\n",
    "            elif waiting == True:\n",
    "                print(\"...\")\n",
    "                time.sleep(10)\n",
    "        except:\n",
    "            status = True\n",
    "            print(\"CLUSTER STATUS: There is no active Redshift cluster.\")\n",
    "\n",
    "\n",
    "KEY                    = config.get('AWS','KEY')\n",
    "SECRET                 = config.get('AWS','SECRET')\n",
    "DWH_CLUSTER_TYPE       = config.get(\"DWH\",\"DWH_CLUSTER_TYPE\")\n",
    "DWH_NUM_NODES          = config.get(\"DWH\",\"DWH_NUM_NODES\")\n",
    "DWH_NODE_TYPE          = config.get(\"DWH\",\"DWH_NODE_TYPE\")\n",
    "DWH_CLUSTER_IDENTIFIER = config.get(\"DWH\",\"DWH_CLUSTER_IDENTIFIER\")\n",
    "DWH_DB                 = config.get(\"DWH\",\"DWH_DB\")\n",
    "DWH_DB_USER            = config.get(\"DWH\",\"DWH_DB_USER\")\n",
    "DWH_DB_PASSWORD        = config.get(\"DWH\",\"DWH_DB_PASSWORD\")\n",
    "DWH_PORT               = config.get(\"DWH\",\"DWH_PORT\")\n",
    "DWH_IAM_ROLE_NAME      = config.get(\"DWH\", \"DWH_IAM_ROLE_NAME\")\n",
    "    \n",
    "(DWH_DB_USER, DWH_DB_PASSWORD, DWH_DB)\n",
    "    \n",
    "s3 = boto3.resource('s3', region_name = \"us-west-2\", aws_access_key_id = KEY, aws_secret_access_key = SECRET)\n",
    "iam = boto3.client('iam', region_name = \"us-west-2\", aws_access_key_id = KEY, aws_secret_access_key = SECRET)\n",
    "redshift = boto3.client('redshift', region_name = \"us-west-2\", aws_access_key_id = KEY, aws_secret_access_key = SECRET)\n",
    "\n",
    "def checkDWHParm():\n",
    "    return pd.DataFrame({\"Param\":\n",
    "                      [\"DWH_CLUSTER_TYPE\", \"DWH_NUM_NODES\", \"DWH_NODE_TYPE\", \"DWH_CLUSTER_IDENTIFIER\", \"DWH_DB\", \"DWH_DB_USER\", \"DWH_DB_PASSWORD\", \"DWH_PORT\", \"DWH_IAM_ROLE_NAME\"],\n",
    "                  \"Value\":\n",
    "                      [DWH_CLUSTER_TYPE, DWH_NUM_NODES, DWH_NODE_TYPE, DWH_CLUSTER_IDENTIFIER, DWH_DB, DWH_DB_USER, DWH_DB_PASSWORD, DWH_PORT, DWH_IAM_ROLE_NAME]\n",
    "                 })\n",
    "\n",
    "def prettyRedshiftProps(props):\n",
    "    pd.set_option('display.max_colwidth', -1)\n",
    "    keysToShow = [\"ClusterIdentifier\", \"NodeType\", \"ClusterStatus\", \"MasterUsername\", \"DBName\", \"Endpoint\", \"NumberOfNodes\", 'VpcId']\n",
    "    x = [(k, v) for k,v in props.items() if k in keysToShow]\n",
    "    return pd.DataFrame(data=x, columns=[\"Key\", \"Value\"])\n",
    "\n",
    "def checkDWHInfo():\n",
    "    myClusterProps = redshift.describe_clusters(ClusterIdentifier=DWH_CLUSTER_IDENTIFIER)['Clusters'][0]\n",
    "    return prettyRedshiftProps(myClusterProps)\n",
    "\n",
    "def insert_tables(cur, conn):\n",
    "    for query in insert_table_queries:\n",
    "        cur.execute(query)\n",
    "        print(\"Preparing to Insert: {}\".format(query))\n",
    "        conn.commit()\n",
    "        \n",
    "        print(\"Table has been inserted\")\n",
    "\n",
    "conn = psycopg2.connect(\"host={} dbname={} user={} password={} port={}\".format(*config['CLUSTER'].values()))\n",
    "cur = conn.cursor()\n",
    "\n",
    "DWH_ENDPOINT=\"dwhcluster.cjaudyn1b0ap.us-west-2.redshift.amazonaws.com\"\n",
    "DWH_ROLE_ARN=\"arn:aws:iam::114410147566:role/awsprojectuser\"\n",
    "    \n",
    "# ==================\n",
    "import os \n",
    "conn_string=\"postgresql://{}:{}@{}:{}/{}\".format(DWH_DB_USER, DWH_DB_PASSWORD, DWH_ENDPOINT, DWH_PORT,DWH_DB)\n",
    "\n",
    "\n",
    "\n",
    "%load_ext sql\n",
    "%sql $conn_string\n",
    "\n",
    "check_staging_events = '''\n",
    "    SELECT * FROM staging_events\n",
    "    LIMIT 5\n",
    "'''\n",
    "\n",
    "check_staging_songs = '''\n",
    "    SELECT * FROM staging_songs\n",
    "    LIMIT 5\n",
    "'''\n",
    "\n",
    "check_songplay_table = '''\n",
    "    SELECT * FROM songplay\n",
    "    LIMIT 5\n",
    "'''\n",
    "\n",
    "check_user_table = '''\n",
    "    SELECT * FROM users\n",
    "    LIMIT 5\n",
    "'''\n",
    "\n",
    "check_song_table = '''\n",
    "    SELECT * FROM songs\n",
    "    LIMIT 5\n",
    "'''\n",
    "\n",
    "check_artist_table = '''\n",
    "    SELECT * FROM artist\n",
    "    LIMIT 5\n",
    "'''\n",
    "\n",
    "check_time_table = '''\n",
    "    SELECT * FROM time\n",
    "    LIMIT 5\n",
    "'''\n",
    "    "
   ]
  }
 ],
 "metadata": {
  "kernelspec": {
   "display_name": "Python 3",
   "language": "python",
   "name": "python3"
  },
  "language_info": {
   "codemirror_mode": {
    "name": "ipython",
    "version": 3
   },
   "file_extension": ".py",
   "mimetype": "text/x-python",
   "name": "python",
   "nbconvert_exporter": "python",
   "pygments_lexer": "ipython3",
   "version": "3.6.3"
  }
 },
 "nbformat": 4,
 "nbformat_minor": 4
}
